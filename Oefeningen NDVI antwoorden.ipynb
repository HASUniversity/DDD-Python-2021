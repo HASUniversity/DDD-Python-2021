{
 "metadata": {
  "language_info": {
   "codemirror_mode": {
    "name": "ipython",
    "version": 3
   },
   "file_extension": ".py",
   "mimetype": "text/x-python",
   "name": "python",
   "nbconvert_exporter": "python",
   "pygments_lexer": "ipython3",
   "version": "3.6.4-final"
  },
  "orig_nbformat": 2,
  "kernelspec": {
   "name": "python36464bit316a8e2122e14bfcb01ef6b8c23c13c3",
   "display_name": "Python 3.6.4 64-bit"
  }
 },
 "nbformat": 4,
 "nbformat_minor": 2,
 "cells": [
  {
   "cell_type": "markdown",
   "metadata": {},
   "source": [
    "## Voorbereiding\n",
    "\n",
    "Zorg dat je weet de NDVI is en hoe je de NDVI berekent. Voor de NDVI berekening heb je de reflectie in het rood en in het infrarood nodig. Voor de Sentinel2 satelliet zijn dit de banden 04 (rood) en 08 (infrarood). "
   ]
  },
  {
   "cell_type": "markdown",
   "metadata": {},
   "source": [
    "## Oefening 1\n",
    "\n",
    "Maak een script dat voor elke dag waarvoor je satellietbeelden hebt de NDVI berekent. In de naam van het rasterbestand vind je de datum en tijd en de band. De module `raster_functions` bevat een functie om de NDVI te berekenen. \n",
    "\n",
    "Maak eerst een stroomschema waarin je per stap de input aangeeft, wat er in de stap gebeurt en wat de output is voordat je begint met coderen!\n",
    "\n",
    "De NDVI heeft altijd een waarde tussen de -1 en +1. Check voor een willekeurig NDVI bestand of de waardes correct zijn. "
   ]
  },
  {
   "cell_type": "code",
   "execution_count": 4,
   "metadata": {
    "tags": []
   },
   "outputs": [
    {
     "output_type": "stream",
     "name": "stdout",
     "text": [
      "T31UFT_A009801_20190121T105535_NDVI_VoedselbosSchijndel.tif\n",
      "T31UFT_A010330_20190227T104021_NDVI_VoedselbosSchijndel.tif\n",
      "T31UFT_A010659_20190322T105540_NDVI_VoedselbosSchijndel.tif\n",
      "T31UFT_A010759_20190329T104024_NDVI_VoedselbosSchijndel.tif\n",
      "T31UFT_A010802_20190401T105221_NDVI_VoedselbosSchijndel.tif\n",
      "T31UFT_A010902_20190408T104058_NDVI_VoedselbosSchijndel.tif\n",
      "T31UFT_A011045_20190418T104115_NDVI_VoedselbosSchijndel.tif\n",
      "T31UFT_A011088_20190421T105033_NDVI_VoedselbosSchijndel.tif\n",
      "T31UFT_A011474_20190518T104031_NDVI_VoedselbosSchijndel.tif\n",
      "T31UFT_A011903_20190617T104030_NDVI_VoedselbosSchijndel.tif\n",
      "T31UFT_A012046_20190627T104030_NDVI_VoedselbosSchijndel.tif\n",
      "T31UFT_A012089_20190630T105035_NDVI_VoedselbosSchijndel.tif\n",
      "T31UFT_A012375_20190720T105035_NDVI_VoedselbosSchijndel.tif\n",
      "T31UFT_A012518_20190730T105502_NDVI_VoedselbosSchijndel.tif\n",
      "T31UFT_A012904_20190826T104232_NDVI_VoedselbosSchijndel.tif\n",
      "T31UFT_A013190_20190915T104326_NDVI_VoedselbosSchijndel.tif\n",
      "T31UFT_A013233_20190918T105246_NDVI_VoedselbosSchijndel.tif\n",
      "T31UFT_A014477_20191214T104338_NDVI_VoedselbosSchijndel.tif\n",
      "T31UFT_A019067_20190215T105128_NDVI_VoedselbosSchijndel.tif\n",
      "T31UFT_A019925_20190416T105029_NDVI_VoedselbosSchijndel.tif\n",
      "T31UFT_A020311_20190513T104026_NDVI_VoedselbosSchijndel.tif\n",
      "T31UFT_A021312_20190722T104027_NDVI_VoedselbosSchijndel.tif\n",
      "T31UFT_A021355_20190725T105032_NDVI_VoedselbosSchijndel.tif\n",
      "T31UFT_A021784_20190824T105344_NDVI_VoedselbosSchijndel.tif\n",
      "T31UFT_A022499_20191013T105439_NDVI_VoedselbosSchijndel.tif\n",
      "T31UFT_A022785_20191102T105441_NDVI_VoedselbosSchijndel.tif\n",
      "T31UFT_A023028_20191119T104431_NDVI_VoedselbosSchijndel.tif\n",
      "T31UFT_A023071_20191122T105436_NDVI_VoedselbosSchijndel.tif\n",
      "T31UFT_A023214_20191202T105436_NDVI_VoedselbosSchijndel.tif\n",
      "T31UFT_A023357_20191212T105437_NDVI_VoedselbosSchijndel.tif\n"
     ]
    }
   ],
   "source": [
    "# Importeer modules\n",
    "import raster_functions\n",
    "\n",
    "# Navigeer naar de \"data\" folder met de satellietbeelden\n",
    "#os.chdir('data')\n",
    "\n",
    "# Itereer over de rasterbestanden van band 4'\n",
    "for file_name in os.listdir() :\n",
    "    if 'B04' in file_name and os.path.splitext(file_name)[1] == '.tif' :\n",
    "\n",
    "        # Zoek voor dezelfde datum en tijd het rasterbestand van band 8\n",
    "        file_name_B04 = file_name\n",
    "        file_name_B08 = file_name.replace('B04', 'B08')\n",
    "\n",
    "        # Bereken voor elke datum en tijd de NDVI \n",
    "        file_name_NDVI = raster_functions.calculate_ndvi(file_name_B04, file_name_B08)\n",
    "        print(file_name_NDVI)\n"
   ]
  },
  {
   "cell_type": "markdown",
   "metadata": {},
   "source": [
    "## Oefening 2\n",
    "\n",
    "Om een grafiek te kunnen maken van het verloop van de NDVI in de tijd op een bepaalde locatie, moet je op de betreffende locatie de NDVI waarde uit het rasterbestand halen. Elk NDVI rasterbestand is genomen op een andere datum/tijd. Als je uit elk bestand de NDVI waarde leest, kan je een grafiek maken met de datum/tijd op de x-as en de NDVI waarde op de y-as.\n",
    "\n",
    "Maak een script dat op de volgende locatie uit alle aanwezige NDVI rasterbestanden de NDVI waarde haalt. \n",
    "\n",
    "x = 670323<br/>\n",
    "y = 5722626\n",
    "\n",
    "Plot zowel de datum/tijd als de bijbehorende NDVI waarde. De output moet er zo uitzien:\n",
    "\n",
    "20190421  0.45<br/>\n",
    "20190518  0.52<br/>\n",
    "20190617  0.53<br/>\n",
    "...\n",
    "\n",
    "Voor het ophalen van de NDVI waarde kan je de functie `get_value_from_raster` gebruiken uit de module `raster_functies`\n",
    "\n",
    "Let op: De gegeven coordinaten zijn in EPSG:32631. Er zijn echter ook beelden die een ander coordinaatsysteem hebben (EPSG:28992). Deze moeten eerst getransformeerd worden naar EPSG:32631 voordat je de NDVI waarde uit kan lezen, waarom?\n",
    "\n",
    "Je kan een coordinaattransformatie uitvoeren met de functie `transform_raster_image` uit de module `raster_functies`.\n",
    "\n",
    "Breid het stroomschema dat je gemaakt hebt in oefening 1 uit met de stappen die je in dit script gaat coderen. Neem ook op welke keuzes je in het script moet maken (bijv. afhankelijk van het coördinaatsysteem). Neem deze stappen vervolgens op als commentaar in je script en begin daarna pas met het coderen!"
   ]
  },
  {
   "cell_type": "code",
   "execution_count": 3,
   "metadata": {},
   "outputs": [
    {
     "output_type": "stream",
     "name": "stdout",
     "text": [
      "20190121: 0.33014354\n",
      "20190227: 0.29655173\n",
      "20190322: 0.27882135\n",
      "20190329: 0.2995839\n",
      "20190401: 0.29257643\n",
      "20190408: 0.2804878\n",
      "20190418: 0.2772998\n",
      "20190421: 0.2935719\n",
      "20190518: 0.3177665\n",
      "20190617: 0.4527845\n",
      "20190627: 0.5755785\n",
      "20190630: 0.5714638\n",
      "20190720: 0.021960365\n",
      "20190730: 0.7817808\n",
      "20190826: 0.7811211\n",
      "20190915: 0.7551356\n",
      "20190918: 0.33373898\n",
      "20191214: 0.7110553\n",
      "20190215: 0.29014084\n",
      "20190416: 0.30364916\n",
      "20190513: 0.2847352\n",
      "20190722: 0.7940547\n",
      "20190725: 0.69135803\n",
      "20190824: 0.7985937\n",
      "20191013: 0.62463343\n",
      "20191102: 0.7656359\n",
      "20191119: 0.8029143\n",
      "20191122: 0.7757009\n",
      "20191202: 0.7251908\n",
      "20191212: 0.06498399\n"
     ]
    }
   ],
   "source": [
    "# import \n",
    "import raster_functions\n",
    "\n",
    "# Navigeer naar de \"data\" folder met de satellietbeelden\n",
    "os.chdir(r'C:\\Users\\TeM\\OneDrive - HAS Hogeschool\\Module\\GM2141_Data_Driven_Design\\2021\\Lessen Python\\github\\data')\n",
    "\n",
    "# Sample point\n",
    "x = 670323\n",
    "y = 5722626\n",
    "\n",
    "# Itereer over de rasterbestanden van band 4'\n",
    "for file_name in os.listdir() :\n",
    "    if 'NDVI' in file_name and os.path.splitext(file_name)[1] == '.tif' : \n",
    "\n",
    "        # Check coordinaatsysteem\n",
    "        if raster_functions.get_coordinate_system(file_name) == '28992' :\n",
    "            print('Coordinate transformation')\n",
    "            raster_functions.transform_raster_image(file_name,32631)\n",
    "        \n",
    "        # Get NDVI value\n",
    "        datum = file_name[15:23]\n",
    "        NDVI_value = raster_functions.get_value_from_raster(file_name, x, y)\n",
    "        print(str(datum) + ': ' + str(NDVI_value))"
   ]
  },
  {
   "cell_type": "code",
   "execution_count": null,
   "metadata": {},
   "outputs": [],
   "source": []
  }
 ]
}