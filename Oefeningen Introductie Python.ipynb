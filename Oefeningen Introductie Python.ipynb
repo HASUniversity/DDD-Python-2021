{
  "cells": [
    {
      "cell_type": "markdown",
      "metadata": {
        "colab_type": "text",
        "id": "CBkObqHNX7SO"
      },
      "source": [
        "## Voorbereiding\n",
        "\n",
        "Ter voorbereiding op de volgende oefeningen lees je het voorwoord en hoofdstuk 1 van het boek *De Programmeursleerling Leren coderen met Python 3* van *Pieter Spronck* en volg je de cursus **Learn the Basics** op https://www.learnpython.org/. De onderdelen *Classes and Objects*, *Dictionaries* en *Modules and Packages* mag je overslaan. \n",
        "<br/>\n",
        "<br/>\n",
        "<br/>\n",
        "<br/>\n",
        "\n",
        "\n",
        "\n",
        "## Oefening 1\n",
        "\n",
        "In deze oefening ga je een string definiëren met de waarde van je voornaam en achternaam.\n",
        "Vervolgens print je van deze string eerst je voornaam en daarna je achternaam.\n",
        "Daarna vervang je in deze string je achternaam door je achternaam in hoofdletters. Gebruik hiervoor de replace functie.\n",
        "Als laatste print je het aantal letters van je voornaam en het aantal letters van je achternaam."
      ]
    },
    {
      "cell_type": "code",
      "execution_count": 3,
      "metadata": {
        "tags": []
      },
      "outputs": [
        {
          "output_type": "stream",
          "name": "stdout",
          "text": "Pietje\n"
        }
      ],
      "source": [
        "# Definieer de string met je voornaam en achternaam\n",
        "naam = 'Pietje Puk'\n",
        "\n",
        "# Print voornaam'\n",
        "print(naam[0:6])\n",
        "\n",
        "# Print achternaam\n",
        "\n",
        "# Print achternaam in hoofdletters\n",
        "\n",
        "# Print aantal letters van je voornaam\n",
        "\n",
        "# Print aantal letters van je achternaam"
      ]
    },
    {
      "metadata": {
        "id": "cbgD5WLaX7SV",
        "colab_type": "text"
      },
      "cell_type": "markdown",
      "source": [
        "## Oefening 2\n",
        "\n",
        "Definieer een functie die een getal als input heeft. Als het getal negatief is print de functie \"Negatief\". Als getal positief is print functie \"Positief\".\n",
        "\n",
        "Als het een even getal is print de functie \"even\". Is het een oneven getal dan print de functie \"oneven\".\n",
        "\n",
        "Roep de functie aan met een positief getal, negatief getal, 0, een even getal en een oneven getal."
      ]
    },
    {
      "cell_type": "code",
      "execution_count": null,
      "metadata": {},
      "outputs": [],
      "source": [
        "# Definieer de functie\n",
        "\n",
        "# Roep de functie aan met positief getal\n",
        "\n",
        "# Roep de functie aan met negatief getal\n",
        "\n",
        "# Roep de functie aan met nul"
      ]
    },
    {
      "metadata": {
        "id": "FQ0083huX7SY",
        "colab_type": "text"
      },
      "cell_type": "markdown",
      "source": [
        "## Oefening 3\n",
        "\n",
        "Definieer een functie die een getal als input heeft. Dit getal is het aantal regels dat door de functie geprint moet worden. Dus bij input = 3 print functie drie regels als volgt:\n",
        "\n",
        "regel 1<br/>\n",
        "regel 2<br/>\n",
        "regel 3<br/>\n",
        "\n",
        "Maak een functie die gebruik maakt van een `while` loop.\n",
        "\n",
        "Roep de functie aan om 10 en 0 regels te printen."
      ]
    },
    {
      "cell_type": "code",
      "execution_count": null,
      "metadata": {},
      "outputs": [],
      "source": [
        "# Definieer functie to print aantal regels\n",
        "\n",
        "# Roep functie aan om 10 regels te printen\n",
        "\n",
        "# Roep functie aan om 0 regels te printen"
      ]
    },
    {
      "cell_type": "markdown",
      "metadata": {
        "colab_type": "text",
        "id": "5I5HAK_WX7Sd"
      },
      "source": [
        "## Oefening 4\n",
        "\n",
        "Schrijf de functie die je gemaakt hebt in de vorige oefening om naar een functie die gebruik maakt van een `for` loop in plaats van een `while` loop.\n",
        "Zorg dat de output hetzelfde is als bij het script van oefening 3.\n",
        "\n",
        "Roep de functie aan om 10 en 0 regels te printen."
      ]
    },
    {
      "cell_type": "code",
      "execution_count": 2,
      "metadata": {},
      "outputs": [],
      "source": [
        "# Definieer functie to print aantal regels\n",
        "\n",
        "# Roep functie aan om 10 regels te printen\n",
        "\n",
        "# Roep functie aan om 0 regels te printen"
      ]
    },
    {
      "metadata": {
        "id": "h-4mBUfBX7Sk",
        "colab_type": "text"
      },
      "cell_type": "markdown",
      "source": [
        "## Oefening 5\n",
        "\n",
        "Maak een functie die telt hoe vaak de volgende klinkers (a, e, i, o, u) in een string voorkomen.\n",
        "\n",
        "Deze functie heeft de volgende input parameter:\n",
        "\n",
        "- String waarvan de karakters geteld moeten worden\n",
        "\n",
        "De output toont per klinker (a, e, i, o, u) hoe vaak deze voorkomt in de string.\n",
        "Gebruik hiervoor de functie count (zie https://www.geeksforgeeks.org/python-string-count/).\n",
        "\n",
        "Alleen klinkers die meer die 1 of meer keer voorkomen worden geprint.\n",
        "\n",
        "Roep de functie aan met je voornaam en achternaam (gescheiden door spatie) als input."
      ]
    },
    {
      "cell_type": "code",
      "execution_count": 3,
      "metadata": {},
      "outputs": [],
      "source": [
        "# Definieer functie\n",
        "\n",
        "# Roep functie aan met je voornaam en achternaam gescheiden door een spatie"
      ]
    }
  ],
  "metadata": {
    "kernelspec": {
      "name": "python36464bit316a8e2122e14bfcb01ef6b8c23c13c3",
      "display_name": "Python 3.6.4 64-bit",
      "language": "python"
    },
    "language_info": {
      "mimetype": "text/x-python",
      "nbconvert_exporter": "python",
      "name": "python",
      "pygments_lexer": "ipython3",
      "version": "3.6.4-final",
      "file_extension": ".py",
      "codemirror_mode": {
        "version": 3,
        "name": "ipython"
      }
    },
    "colab": {
      "name": "Oefeningen introductie Python.ipynb",
      "provenance": [],
      "collapsed_sections": []
    }
  },
  "nbformat": 4,
  "nbformat_minor": 1
}