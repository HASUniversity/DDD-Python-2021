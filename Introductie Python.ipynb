{
  "cells": [
    {
      "cell_type": "markdown",
      "metadata": {
        "colab_type": "text",
        "id": "R0PEPezCUfeO",
        "toc-hr-collapsed": false
      },
      "source": [
        "# Data verwerking met Python\n",
        "\n",
        "Python is een populaire programmeertaal die bedacht is door Guido van Rossum in 1991. \n",
        "\n",
        "Python kan gebruikt worden voor:\n",
        "- Maken van web applicaties\n",
        "- Automatiseren van data verwerking\n",
        "- Verbinden met databases en het lezen en schrijven van (GIS-)bestanden\n",
        "- Data analyse en machine learning\n",
        "\n",
        "Python heeft een aantal voordelen:\n",
        "- Python werkt op verschillende platformen (Windows, Mac en Linux)\n",
        "- Python heeft een eenvoudige syntax\n",
        "- Python is erg geschikt voor protoyping\n",
        "- In Python is het mogelijk om zowel procedureel als object geörienteerd te werken\n",
        "- Er zijn veel bibliotheken beschikbaar om de functionaliteit uit te breiden\n",
        "\n",
        "Wij gaan Python gebruiken voor het automatiseren van data verwerking en het lezen en schrijven van GIS-bestanden. Hieronder zie je de workflow die we gaan automatiseren.\n",
        "\n",
        "![alt text](Flowchart.PNG \"Flowchart berekenen NDVI\")\n",
        "\n",
        "We gaan een script schrijven om voor 20 dagen geautomatiseerd de NDVI te berekenen en vervolgens voor een specifieke locatie het verloop van de NDVI in de tijd te visualiseren.\n",
        "\n",
        "Een uitgebreide introductie over programmeren in Python vind je [hier](http://greenteapress.com/thinkpython2/thinkpython2.pdf).\n",
        "\n",
        "Een eenvoudige Python tutorial met voorbeelden vind je [hier](https://www.w3schools.com/python/).\n",
        "<br/>\n",
        "<br/>\n",
        "\n",
        "\n",
        "\n",
        "## Importeren van libraries\n",
        "\n",
        "Om de functionaliteit van Python uit te breiden kun je libraries installeren. Veelgebruikte libraries voor data verwerking van geografische gegevens zijn *gdal* en *numpy*. Je kunt deze libraries importeren met de functie `import`. Libraries worden ook wel modules genoemd."
      ]
    },
    {
      "metadata": {
        "id": "C9Wplrp-UfeP",
        "colab_type": "code",
        "outputId": "fb160806-1e3e-4ba5-b32e-b4528673b746",
        "colab": {
          "base_uri": "https://localhost:8080/",
          "height": 71
        },
        "trusted": true,
        "tags": []
      },
      "cell_type": "code",
      "source": [
        "import math\n",
        "\n",
        "print(type(math))\n",
        "print(dir(math))"
      ],
      "execution_count": null,
      "outputs": []
    },
    {
      "metadata": {
        "id": "bdDxaDwDUfeU",
        "colab_type": "text"
      },
      "cell_type": "markdown",
      "source": [
        "## Commentaar in Python\n",
        "\n",
        "Een goede programmeur voorziet zijn code van commentaar. Commentaar geeft toelichting op de code zodat deze ook van andere programmeurs te begrijpen is. In Python moet een commentaarregel voorafgegaan worden door een `#`."
      ]
    },
    {
      "metadata": {
        "id": "6bL6OUeJUfeV",
        "colab_type": "code",
        "colab": {},
        "trusted": true,
        "tags": []
      },
      "cell_type": "code",
      "source": [
        "print('Deze regel wordt geprint omdat dit geen commentaarregel is')\n",
        "#print('Deze regel wordt niet geprint omdat dit een commentaarregel is')"
      ],
      "execution_count": null,
      "outputs": []
    },
    {
      "metadata": {
        "toc-hr-collapsed": false,
        "id": "KnB0oxSoUfeX",
        "colab_type": "text"
      },
      "cell_type": "markdown",
      "source": [
        "# Variabelen en data types in Python\n",
        "\n",
        "Een variabele is een stukje gereserveerd geheugen in een computer om waardes op te slaan. Het data type van een variabele bepaalt welke bewerkingen op een variabele uitgevoerd mogen worden. Bekende data types zijn:\n",
        "- string voor de opslag van tekst (bijv. \"Hello world\")\n",
        "- integer voor de opslag van gehele getallen (bijv. 5)\n",
        "- float voor de opslag van decimale getallen (bijv. 5.5)\n",
        "- boolean voor de opslag van true of false\n",
        "\n",
        "In Python wordt het data type van een variabele bepaalt als je de variabele een waarde geeft "
      ]
    },
    {
      "metadata": {
        "id": "hKdDAFc3UfeY",
        "colab_type": "code",
        "colab": {},
        "trusted": true,
        "tags": []
      },
      "cell_type": "code",
      "source": [
        "x = 'Hello world'\n",
        "print(type(x))"
      ],
      "execution_count": null,
      "outputs": []
    },
    {
      "metadata": {
        "id": "mGBWADwQUfea",
        "colab_type": "code",
        "colab": {},
        "trusted": true,
        "tags": []
      },
      "cell_type": "code",
      "source": [
        "y = 5\n",
        "print(type(y))"
      ],
      "execution_count": null,
      "outputs": []
    },
    {
      "metadata": {
        "id": "BlwUNdZ1Ufed",
        "colab_type": "code",
        "colab": {},
        "trusted": true,
        "tags": []
      },
      "cell_type": "code",
      "source": [
        "z = 5.5\n",
        "print(type(z))"
      ],
      "execution_count": null,
      "outputs": []
    },
    {
      "metadata": {
        "id": "WHCYH4IMUfef",
        "colab_type": "code",
        "colab": {},
        "trusted": true
      },
      "cell_type": "code",
      "source": [
        "a = True\n",
        "print(type(a))"
      ],
      "execution_count": null,
      "outputs": []
    },
    {
      "metadata": {
        "toc-hr-collapsed": true,
        "id": "opx58pnnUfei",
        "colab_type": "text"
      },
      "cell_type": "markdown",
      "source": [
        "## Werken met strings\n",
        "\n",
        "Een string staat altijd tussen enkele quotes of dubbele quotes. Het toekennen van een string aan een variabele gebeurt met het = teken."
      ]
    },
    {
      "metadata": {
        "id": "whqfowyHUfej",
        "colab_type": "code",
        "colab": {},
        "trusted": false
      },
      "cell_type": "code",
      "source": [
        "x = 'Hello world'\n",
        "print(x)"
      ],
      "execution_count": null,
      "outputs": []
    },
    {
      "metadata": {
        "id": "oZlGnpNWUfel",
        "colab_type": "text"
      },
      "cell_type": "markdown",
      "source": [
        "met het + teken kan je twee strings aan elkaar koppelen"
      ]
    },
    {
      "metadata": {
        "id": "KvtrsozzUfel",
        "colab_type": "code",
        "colab": {},
        "trusted": false
      },
      "cell_type": "code",
      "source": [
        "x = 'Hello '\n",
        "y = 'world'\n",
        "z = x + y + y\n",
        "print(z)"
      ],
      "execution_count": null,
      "outputs": []
    },
    {
      "metadata": {
        "id": "TrRBmm2fUfen",
        "colab_type": "text"
      },
      "cell_type": "markdown",
      "source": [
        "Een string kan beschouwd worden als een lijst van karakters waardoor je eenvoudig karakters uit een string kan halen.\n",
        "\n",
        "**Let op:** Programmeurs beginnen bij 0 te tellen!"
      ]
    },
    {
      "metadata": {
        "id": "vNjCxlRkUfeo",
        "colab_type": "code",
        "colab": {},
        "trusted": false
      },
      "cell_type": "code",
      "source": [
        "x = 'Hello world'\n",
        "print(x[2])"
      ],
      "execution_count": null,
      "outputs": []
    },
    {
      "metadata": {
        "id": "NL113xYCUfeq",
        "colab_type": "text"
      },
      "cell_type": "markdown",
      "source": [
        "Het is ook mogelijk om een range van karakters te selecteren. In het volgende voorbeeld worden de eerste vijf karakters geselecteerd."
      ]
    },
    {
      "metadata": {
        "id": "2Q7xuZLpUfeq",
        "colab_type": "code",
        "colab": {},
        "trusted": false,
        "tags": []
      },
      "cell_type": "code",
      "source": [
        "x = 'Hello world'\n",
        "print(x[0:5])"
      ],
      "execution_count": null,
      "outputs": []
    },
    {
      "metadata": {
        "id": "w_9P6QqaUfet",
        "colab_type": "text"
      },
      "cell_type": "markdown",
      "source": [
        "In het volgende voorbeeld worden alle karakters vanaf het zevende karakter geselecteerd."
      ]
    },
    {
      "metadata": {
        "id": "3BbT5fKoUfet",
        "colab_type": "code",
        "colab": {},
        "trusted": false
      },
      "cell_type": "code",
      "source": [
        "x = 'Hello world'\n",
        "print(x[6:])"
      ],
      "execution_count": null,
      "outputs": []
    },
    {
      "metadata": {
        "id": "O_q00X2bUfev",
        "colab_type": "text"
      },
      "cell_type": "markdown",
      "source": [
        "In het volgende voorbeeld worden de laatste vijf karakters geselecteerd."
      ]
    },
    {
      "metadata": {
        "id": "N51htv-PUfew",
        "colab_type": "code",
        "colab": {},
        "trusted": false
      },
      "cell_type": "code",
      "source": [
        "x = 'Hello world'\n",
        "print(x[-5:])"
      ],
      "execution_count": null,
      "outputs": []
    },
    {
      "metadata": {
        "id": "dNqiZxLUUfey",
        "colab_type": "text"
      },
      "cell_type": "markdown",
      "source": [
        "Het is ook mogelijk om strings te vervangen. In het volgende voorbeeld wordt de string \"world\" vervangen door \"wereld\"."
      ]
    },
    {
      "metadata": {
        "id": "z4vjnizAUfey",
        "colab_type": "code",
        "colab": {},
        "trusted": false
      },
      "cell_type": "code",
      "source": [
        "x = 'Hello world'\n",
        "y = x.replace('world','wereld')\n",
        "print(y)"
      ],
      "execution_count": null,
      "outputs": []
    },
    {
      "metadata": {
        "toc-hr-collapsed": true,
        "id": "bUuCgvy3Ufe1",
        "colab_type": "text"
      },
      "cell_type": "markdown",
      "source": [
        "## Werken met nummers\n",
        "\n",
        "Een nummer staat nooit tussen enkele quotes of dubbele quotes. Het toekennen van een nummer aan een variabele gebeurt met het = teken. Als je een geheel getal toekent aan een variabele wordt het data type een `int`. Als je een decimaal getal toekent aan een variabele wordt het data type een `float`. Als je een geheel getal als `float` wilt definiëren, dan moet je het getal met een punt toekennen aan een variabele."
      ]
    },
    {
      "metadata": {
        "id": "xEVr2kTYUfe1",
        "colab_type": "code",
        "colab": {},
        "trusted": false
      },
      "cell_type": "code",
      "source": [
        "x = 5\n",
        "print(type(x))"
      ],
      "execution_count": null,
      "outputs": []
    },
    {
      "metadata": {
        "id": "rLcsOWHoUfe3",
        "colab_type": "code",
        "colab": {},
        "trusted": false
      },
      "cell_type": "code",
      "source": [
        "y = 5.5\n",
        "print(type(y))"
      ],
      "execution_count": null,
      "outputs": []
    },
    {
      "metadata": {
        "id": "Wr35t4roUfe6",
        "colab_type": "code",
        "colab": {},
        "trusted": false
      },
      "cell_type": "code",
      "source": [
        "z = 5.\n",
        "print(type(z))"
      ],
      "execution_count": null,
      "outputs": []
    },
    {
      "metadata": {
        "id": "2EeHwFy-Ufe8",
        "colab_type": "text"
      },
      "cell_type": "markdown",
      "source": [
        "In berekeningen is het mogelijk om zowel integers en floats te gebruiken."
      ]
    },
    {
      "metadata": {
        "id": "XBPGa9KsUfe9",
        "colab_type": "code",
        "colab": {},
        "trusted": false
      },
      "cell_type": "code",
      "source": [
        "x = 5\n",
        "y = 5.5\n",
        "z = x + y\n",
        "print(z)\n",
        "print(type(z))"
      ],
      "execution_count": null,
      "outputs": []
    },
    {
      "metadata": {
        "id": "0mjFEADPUfe_",
        "colab_type": "text"
      },
      "cell_type": "markdown",
      "source": [
        "De library *math* beidt een groot aantal mathematische functies, bijvoorbeeld voor worteltrekken. Hiervoor gebruik je de functie *sqrt*."
      ]
    },
    {
      "metadata": {
        "id": "zWiVQ0HUUfe_",
        "colab_type": "code",
        "colab": {},
        "trusted": false
      },
      "cell_type": "code",
      "source": [
        "import math\n",
        "\n",
        "x = '5'\n",
        "print(type(x))\n",
        "y = math.sqrt(x)\n",
        "print(y)\n",
        "print(type(y))"
      ],
      "execution_count": null,
      "outputs": []
    },
    {
      "metadata": {
        "id": "WEAi4dc4UffB",
        "colab_type": "text"
      },
      "cell_type": "markdown",
      "source": [
        "Meer informatie over de `math` library kan [hier](https://docs.python.org/3/library/math.html) gevonden worden."
      ]
    },
    {
      "metadata": {
        "id": "7bCX9ih7UffB",
        "colab_type": "text"
      },
      "cell_type": "markdown",
      "source": [
        "## Werken met booleans\n",
        "\n",
        "Een boolean variabele kan de waarde `true` of `false` hebben. Als je een vergelijking evalueert is de uitkomst of `true`of `false`. \n",
        "\n",
        "**Let op:** Als je checkt of twee waardes hetzelfde zijn gebruik je ==. Om een waarde aan een variabele toe te kennen, gebruik je =."
      ]
    },
    {
      "metadata": {
        "id": "93bnvouiUffC",
        "colab_type": "code",
        "colab": {},
        "trusted": false
      },
      "cell_type": "code",
      "source": [
        "print(5 > 4)\n",
        "print(5 == 5)\n",
        "print(5 == 4)\n",
        "print(5 < 4)"
      ],
      "execution_count": null,
      "outputs": []
    },
    {
      "metadata": {
        "toc-hr-collapsed": true,
        "id": "kVUToI8oUffG",
        "colab_type": "text"
      },
      "cell_type": "markdown",
      "source": [
        "## Werken met datum en tijd\n",
        "\n",
        "Datum en tijd zijn geen data types maar het is wel mogelijk om met datum en tijd te werken door gebruik te maken van de library **datetime**. Deze library moet geïmporteerd worden om met datum en tijd te kunnen werken. Met het commando `dir` krijg je een overzicht van alle functies in de library."
      ]
    },
    {
      "metadata": {
        "id": "u_YsJRgkUffH",
        "colab_type": "code",
        "colab": {},
        "trusted": false
      },
      "cell_type": "code",
      "source": [
        "import datetime\n",
        "\n",
        "print(type(datetime))\n",
        "print(dir(datetime))"
      ],
      "execution_count": null,
      "outputs": []
    },
    {
      "metadata": {
        "id": "OtKPnCxvUffI",
        "colab_type": "text"
      },
      "cell_type": "markdown",
      "source": [
        "De huidige datum kan als volgt opgevraagd worden:"
      ]
    },
    {
      "metadata": {
        "id": "KVbV1YC-UffJ",
        "colab_type": "code",
        "colab": {},
        "trusted": false,
        "tags": []
      },
      "cell_type": "code",
      "source": [
        "import datetime\n",
        "\n",
        "x = datetime.datetime.now()\n",
        "print(x)"
      ],
      "execution_count": null,
      "outputs": []
    },
    {
      "metadata": {
        "id": "xOzaThqHUffL",
        "colab_type": "text"
      },
      "cell_type": "markdown",
      "source": [
        "Het is ook mogelijk om zelf een datum en tijd te definiëren en met datums en tijd te rekenen om het verschil tussen twee tijdstippen uit te rekenen.  "
      ]
    },
    {
      "metadata": {
        "id": "t5S0HfsmUffL",
        "colab_type": "code",
        "colab": {},
        "trusted": false
      },
      "cell_type": "code",
      "source": [
        "import datetime\n",
        "\n",
        "x = datetime.datetime(2019, 5, 17, 15, 45, 00)\n",
        "print(x)\n",
        "\n",
        "y = datetime.datetime(2020, 5, 17, 12, 50, 21)\n",
        "print(y)\n",
        "\n",
        "# Bereken het tijdsverschil tussen x en y in dagen, uren, minuten en seconden\n",
        "z = y - x\n",
        "print(z) \n",
        "\n",
        "# Print tijdsverschil in seconden\n",
        "print(z.seconds)"
      ],
      "execution_count": null,
      "outputs": []
    },
    {
      "metadata": {
        "id": "oGZrQEPVUffO",
        "colab_type": "text"
      },
      "cell_type": "markdown",
      "source": [
        "Meer informatie over de `datetime` library kan [hier](https://docs.python.org/3/library/datetime.html) gevonden worden. "
      ]
    },
    {
      "metadata": {
        "id": "a2_ajgz1UffO",
        "colab_type": "text"
      },
      "cell_type": "markdown",
      "source": [
        "## Werken met lijsten\n",
        "\n",
        "Een `list` is een geordende verzameling van data elementen (bijvoorbeeld integers, floats of strings). De elementen in een lijst zijn geordend wat betekent dat ieder element op basis van een index (positie in de lijst) uit de lijst opgehaald kan worden. \n",
        "\n",
        "Je maakt een nieuwe lege lijst met blokhaken. Met de functie append kan je elementen aan een lijst toevoegen. "
      ]
    },
    {
      "metadata": {
        "id": "k5-L1eRrUffP",
        "colab_type": "code",
        "colab": {},
        "trusted": false
      },
      "cell_type": "code",
      "source": [
        "my_list = []\n",
        "my_list.append(1)\n",
        "my_list.append(2)\n",
        "my_list.append(3)\n",
        "print(my_list)"
      ],
      "execution_count": null,
      "outputs": []
    },
    {
      "metadata": {
        "id": "5f_wma4JUffQ",
        "colab_type": "text"
      },
      "cell_type": "markdown",
      "source": [
        "Het is ook mogelijk om een lijst met elementen te creeëren."
      ]
    },
    {
      "metadata": {
        "id": "8b-NXJ8TUffR",
        "colab_type": "code",
        "colab": {},
        "trusted": false
      },
      "cell_type": "code",
      "source": [
        "my_list = [1, 2, 3]\n",
        "my_list.append(1)\n",
        "my_list.append(2)\n",
        "my_list.append(3)\n",
        "print(len(my_list))"
      ],
      "execution_count": null,
      "outputs": []
    },
    {
      "metadata": {
        "id": "5UADvo1TUffT",
        "colab_type": "text"
      },
      "cell_type": "markdown",
      "source": [
        "Je kan op basis van positie in de lijst (index) een element uit de lijst ophalen.\n",
        "\n",
        "**Let op:** Programmeurs beginnen bij 0 te tellen!"
      ]
    },
    {
      "metadata": {
        "id": "La9SYS3rUffT",
        "colab_type": "code",
        "colab": {},
        "trusted": false
      },
      "cell_type": "code",
      "source": [
        "my_list = [1, 2, 3]\n",
        "print(my_list[1])"
      ],
      "execution_count": null,
      "outputs": []
    },
    {
      "metadata": {
        "id": "BdrIZmCHUffV",
        "colab_type": "text"
      },
      "cell_type": "markdown",
      "source": [
        "Het is ook mogelijk om alle elementen uit een lijst op te halen via een `for` lus. De `for` lus wordt in het volgende hoofdstuk in detail behandeld."
      ]
    },
    {
      "metadata": {
        "id": "tYy9biO9UffV",
        "colab_type": "code",
        "colab": {},
        "trusted": false
      },
      "cell_type": "code",
      "source": [
        "my_list = [1, 2, 3, 4]\n",
        "for element in my_list :\n",
        "    print(element)"
      ],
      "execution_count": null,
      "outputs": []
    },
    {
      "metadata": {
        "id": "YYkyUcceUffY",
        "colab_type": "text"
      },
      "cell_type": "markdown",
      "source": [
        "Het aantal elementen in een lijst is als volgt te bepalen."
      ]
    },
    {
      "metadata": {
        "id": "frJyCbIfUffY",
        "colab_type": "code",
        "colab": {},
        "trusted": false
      },
      "cell_type": "code",
      "source": [
        "my_list = [1, 2, 3, 4]\n",
        "print(len(my_list))"
      ],
      "execution_count": null,
      "outputs": []
    },
    {
      "metadata": {
        "toc-hr-collapsed": false,
        "id": "eAlGGhwlUffa",
        "colab_type": "text"
      },
      "cell_type": "markdown",
      "source": [
        "# Flow control\n",
        "\n",
        "De flow control bepaalt de volgorde van uitvoering van instructies van een computer programma. De flow control wordt bepaald door beslissingsstructuren (het `if` statement) en besturingsstructuren (`while` en `for` lussen). In beslissingsstructuren wordt een uitvoeringsblok afhankelijk van de conditie uitgevoerd. Een uitvoeringsblok bestaat uit één of meer instructies die altijd als één geheel uitgevoerd worden. In een besturingsstructuur (lus) kan een uitvoeringsblok meerdere malen doorlopen worden. Elke keer dat een blok doorlopen wordt, wordt een iteratie genoemd. \n",
        "\n",
        "**Let op:** In Python wordt een uitvoeringsblok aangegeven door middel van inspringen. Statements die elkaar opvolgen en hetzelfde niveau van inspringing hebben worden beschouwd als één uitvoeringsblok. De manier van programmeren draagt bij aan de leesbaarheid van de code."
      ]
    },
    {
      "metadata": {
        "toc-hr-collapsed": true,
        "id": "AxVHCoAlUffa",
        "colab_type": "text"
      },
      "cell_type": "markdown",
      "source": [
        "## Het `if` statement\n",
        "\n",
        "Het `if` statement wordt gebruikt om beslissingen te nemen met betrekking tot het wel of niet doorlopen van een uitvoeringsblok. Het `if` statement evalueert een boolean expressie. Deze boolean expressie levert of `True` of `False`. Bij `True` wordt een blok met instructies wel uitgevoerd en bij `False` wordt een blok met instructie niet uitgevoerd. Het is mogelijk om het `if` statement uit te breiden met `elif` en/of `else` om aan te geven wat er gedaan moet worden als een boolean expressie een `False` oplevert. "
      ]
    },
    {
      "metadata": {
        "id": "aiV0j3UXUffb",
        "colab_type": "code",
        "colab": {},
        "trusted": false
      },
      "cell_type": "code",
      "source": [
        "x = 3\n",
        "if x > 4 :\n",
        "    print('x groter dan 4')\n",
        "\n",
        "if x == 4:\n",
        "    print('x is 4')\n",
        "if x < 4 :\n",
        "    print('x kleiner dan 4')\n",
        "print('Ingesprongen')"
      ],
      "execution_count": null,
      "outputs": []
    },
    {
      "metadata": {
        "id": "Sq__gknAUffd",
        "colab_type": "code",
        "colab": {},
        "trusted": false
      },
      "cell_type": "code",
      "source": [
        "x = 4\n",
        "if x > 4 :\n",
        "    print('x groter dan 4')\n",
        "elif x == 4:\n",
        "    print('x is 4')\n",
        "else :\n",
        "    print('x kleiner 4')"
      ],
      "execution_count": null,
      "outputs": []
    },
    {
      "metadata": {
        "id": "umVPbJnxUfff",
        "colab_type": "code",
        "colab": {},
        "trusted": false
      },
      "cell_type": "code",
      "source": [
        "x = 3\n",
        "if x > 4 :\n",
        "    print('x groter dan 4')\n",
        "elif x == 4:\n",
        "    print('x is 4')\n",
        "else :\n",
        "    print('x kleiner dan 4')"
      ],
      "execution_count": null,
      "outputs": []
    },
    {
      "metadata": {
        "id": "lsgyoyOIUffh",
        "colab_type": "text"
      },
      "cell_type": "markdown",
      "source": [
        "De volgende condities kunnen geëvalueerd worden in een `if` statement:\n",
        "- a == b (gelijk)\n",
        "- a != b (niet gelijk)\n",
        "- a < b (kleiner)\n",
        "- a <= b (kleiner of gelijk)\n",
        "- a > b (groter)\n",
        "- a >= b (groter of gelijk)\n",
        "\n",
        "Het is mogelijk om verschillende of verschillende boolean expressies te combineren met de logische operatoren `and` en `or`. "
      ]
    },
    {
      "metadata": {
        "id": "P0M9MX6uUffi",
        "colab_type": "code",
        "colab": {},
        "trusted": false
      },
      "cell_type": "code",
      "source": [
        "x = 4\n",
        "y = 4\n",
        "if x == 3 and y == 4:\n",
        "    print('Beide boolean expressies zijn waar')"
      ],
      "execution_count": null,
      "outputs": []
    },
    {
      "metadata": {
        "id": "lZ6jgfEDUffk",
        "colab_type": "code",
        "colab": {},
        "trusted": false
      },
      "cell_type": "code",
      "source": [
        "x = 3 \n",
        "y = 4\n",
        "if x == 4 or y == 4:\n",
        "    print('Een van beide of beide boolean expressies zijn beide waar')"
      ],
      "execution_count": null,
      "outputs": []
    },
    {
      "metadata": {
        "id": "BLyhl_JlUffn",
        "colab_type": "code",
        "colab": {},
        "trusted": false
      },
      "cell_type": "code",
      "source": [
        "x = 5\n",
        "if x == 5 :\n",
        "    print('Deze regel wordt alleen geprint als x = 5')\n",
        "print('Deze regel wordt altijd geprint')"
      ],
      "execution_count": null,
      "outputs": []
    },
    {
      "metadata": {
        "id": "g2shbvB_Uffo",
        "colab_type": "code",
        "colab": {},
        "trusted": false
      },
      "cell_type": "code",
      "source": [
        "x = 4\n",
        "if x == 5 :\n",
        "    print('Deze regel wordt alleen geprint als x = 5')\n",
        "print('Deze regel wordt altijd geprint')"
      ],
      "execution_count": null,
      "outputs": []
    },
    {
      "metadata": {
        "id": "TOpDTpYPUffr",
        "colab_type": "text"
      },
      "cell_type": "markdown",
      "source": [
        "Het `IF` statement kan je ook gebruiken om te zoeken in strings"
      ]
    },
    {
      "metadata": {
        "id": "fdEZsuNYUffs",
        "colab_type": "code",
        "colab": {},
        "trusted": false
      },
      "cell_type": "code",
      "source": [
        "x = 'Hello world'\n",
        "if 'world' in x:\n",
        "    print('world gevonden')\n",
        "if not 'wereld' in x:\n",
        "    print('wereld niet gevonden')"
      ],
      "execution_count": null,
      "outputs": []
    },
    {
      "metadata": {
        "toc-hr-collapsed": false,
        "id": "ZUjsT9yeUfft",
        "colab_type": "text"
      },
      "cell_type": "markdown",
      "source": [
        "## De `while` lus\n",
        "\n",
        "In een `while` lus wordt een uitvoeringsblok uitgevoerd zolang er aan een conditie voldaan wordt. In het volgende voorbeeld wordt de `while` lus net zo lang doorlopen totdat de variabele *teller* de waarde 10 heeft. Elke keer dat de lus doorlopen wordt, wordt de teller met 1 opgehoogd.\n",
        "\n",
        "**Let op:** Binnen de `while` lus moeten twee commando's uitgevoerd worden, het printen van de teller en het verhogen van de teller met 1. Deze commando's vormen samen een uitvoeringsblok en moeten hetzelfde niveau van inspringen hebben."
      ]
    },
    {
      "metadata": {
        "id": "QjNlEJqVUffu",
        "colab_type": "code",
        "colab": {},
        "trusted": false
      },
      "cell_type": "code",
      "source": [
        "teller = 0\n",
        "while teller < 10 :\n",
        "    print(teller)\n",
        "    teller = teller + 1\n",
        "print('Einde van while lus')"
      ],
      "execution_count": null,
      "outputs": []
    },
    {
      "metadata": {
        "toc-hr-collapsed": true,
        "id": "xdWXL8eOUffw",
        "colab_type": "text"
      },
      "cell_type": "markdown",
      "source": [
        "## De `for` lus\n",
        "\n",
        "De `for` lus is een tellergestuurde lus en bedoeld om een uitvoeringsblok een vooraf ingesteld aantal keren te doorlopen. De `range()` functie kan gebruikt worden om het aantal keren dat een uitvoeringsblok uitgevoerd moet worden aan te geven. De `range()` functie begint default bij 0 en eindigt bij de waarde die meegegeven wordt. Per aanroep wordt de waarde met 1 opgehoogd. Zolang de waarde kleiner is dan de opgegeven eindwaarde wordt de opgehoogd. Het is ook mogelijk een andere waarde dan 0 als startwaarde mee te geven."
      ]
    },
    {
      "metadata": {
        "id": "pBQ104RoUffw",
        "colab_type": "code",
        "outputId": "04cbb75b-66c0-44e0-8bcc-09a951a911f2",
        "colab": {},
        "trusted": false
      },
      "cell_type": "code",
      "source": [
        "for x in range(6) :\n",
        "    print(x)\n",
        "print('Einde van for lus')"
      ],
      "execution_count": null,
      "outputs": []
    },
    {
      "metadata": {
        "id": "l0ZDbYelUffz",
        "colab_type": "code",
        "outputId": "54bb9d37-bcd4-4249-8007-f7749852bf5b",
        "colab": {},
        "trusted": false
      },
      "cell_type": "code",
      "source": [
        "for x in range(4,6) :\n",
        "    print(x)\n",
        "print('Einde van for lus')"
      ],
      "execution_count": null,
      "outputs": []
    },
    {
      "metadata": {
        "id": "SGVlC5fiUff1",
        "colab_type": "text"
      },
      "cell_type": "markdown",
      "source": [
        "Een `for` lus kan ook gebruikt worden om de individuele elementen van een lijst te verwerken. Omdat een string een lijst van karakters is, is het mogelijk om de karakters van een string te printen in een `for` lus."
      ]
    },
    {
      "metadata": {
        "id": "j7nb1BFFUff2",
        "colab_type": "code",
        "outputId": "715b0ea2-be8b-4b7a-db6d-dcb4335f7d0a",
        "colab": {},
        "trusted": false
      },
      "cell_type": "code",
      "source": [
        "s = 'Hello world'\n",
        "for k in s :\n",
        "    print(k)\n",
        "print('Einde van for lus')"
      ],
      "execution_count": null,
      "outputs": []
    },
    {
      "metadata": {
        "id": "58d667s0Uff4",
        "colab_type": "text"
      },
      "cell_type": "markdown",
      "source": [
        "## Functies in Python\n",
        "\n",
        "Een functie is een codeblok dat alleen uitgevoerd wordt als het vanuit een andere codeblok aangeroepen wordt. Je schrijft een functie als je functionaliteit wilt het gebruiken in je programma of om je code overzichtelijk te houden.\n",
        "\n",
        "Een function begint met `def` gevolgd door de functie naam. Daarna volgen tussen haakjes de lijst van parameters die aan de functie meegegeven moetn worden. Met `return` wordt het resultaat van een functie teruggegeven. Het is niet verplicht dat een functie een resultaat teruggeeft. \n",
        "\n",
        "Je begint altijd met de definitie van de functie. "
      ]
    },
    {
      "metadata": {
        "id": "95p0aEZ8Uff4",
        "colab_type": "code",
        "colab": {},
        "trusted": false
      },
      "cell_type": "code",
      "source": [
        "# Functie definitie\n",
        "def optellen(getal1, getal2) :\n",
        "    uitkomst = getal1 + getal2\n",
        "    return uitkomst"
      ],
      "execution_count": null,
      "outputs": []
    },
    {
      "metadata": {
        "id": "FYmXaT-LUff6",
        "colab_type": "text"
      },
      "cell_type": "markdown",
      "source": [
        "Daarna kan je een functie één of meerdere keren aanroepen."
      ]
    },
    {
      "metadata": {
        "id": "neNsBecMUff7",
        "colab_type": "code",
        "outputId": "750673e4-e51e-429b-8727-561cc21898fb",
        "colab": {},
        "trusted": false
      },
      "cell_type": "code",
      "source": [
        "# 1e keer functie aanroep\n",
        "a = 3\n",
        "b = 6\n",
        "som = optellen(a, b)\n",
        "print(som)\n",
        "\n",
        "# 2e keer functie aanroep\n",
        "a = 70\n",
        "b = 60\n",
        "som = optellen(a, b)\n",
        "print(som)"
      ],
      "execution_count": null,
      "outputs": []
    },
    {
      "metadata": {
        "id": "ETHwN3yhUff9",
        "colab_type": "text"
      },
      "cell_type": "markdown",
      "source": [
        "## Foutafhandeling in Python\n",
        "\n",
        "Fouten die optreden omdat je code niet aan de syntax van Python voldoet, bijvoorbeeld omdat je niet bestaande reserved words gebruikt, worden syntax errors genoemd. Voordat een Python script uitgevoerd wordt, wordt gecheckt of de syntax correct is. Is dit niet het geval, dan krijg je een syntax error. "
      ]
    },
    {
      "metadata": {
        "id": "xlU4k8W8Uff9",
        "colab_type": "code",
        "outputId": "c2ad9c63-eebe-4a1c-fd71-e032596c95ac",
        "colab": {},
        "trusted": false
      },
      "cell_type": "code",
      "source": [
        "# Script met syntax error\n",
        "a wordt 5\n",
        "if a == 5:\n",
        "print(\"a=5\")"
      ],
      "execution_count": null,
      "outputs": []
    },
    {
      "metadata": {
        "id": "MjxqvOkuUff_",
        "colab_type": "text"
      },
      "cell_type": "markdown",
      "source": [
        "Soms treden er fouten op bij het uitvoeren van de code. Deze fouten worden runtime errors genoemd. Een voorbeeld van een runtime error is delen door nul of niet kunnen aanloggen op een database omdat de gebruiker een verkeerd wachtwoord opgegeven heeft. Een runtime error (fout tijdens uitvoeren van de code) genereert een exceptie. "
      ]
    },
    {
      "metadata": {
        "id": "dKq7Fh7HUfgA",
        "colab_type": "code",
        "outputId": "ddc27d3c-d70d-4737-a21c-972548c5263c",
        "colab": {},
        "trusted": false
      },
      "cell_type": "code",
      "source": [
        "a = 5\n",
        "b = 0\n",
        "\n",
        "# Deel a door b\n",
        "c = a/b\n",
        "print(\"einde bewerking\")"
      ],
      "execution_count": null,
      "outputs": []
    },
    {
      "metadata": {
        "id": "zSdxGHGpUfgB",
        "colab_type": "text"
      },
      "cell_type": "markdown",
      "source": [
        "Een exceptie kan je opvangen zodat je runtime errors op een goede manier kan afhandelen, bijvoorbeeld door te tonen wat fout gaat en je programma niet abrupt stopt. Om je exceptie op te vangen en af te handelen gebruik je de `try ... except` constructie. Alle instructie kunnen in het `try` codeblok. De acties die uitgevoerd moeten worden als er een exceptie optreedt komen in het `except` codeblok."
      ]
    },
    {
      "metadata": {
        "id": "FMyjcPiiUfgC",
        "colab_type": "code",
        "outputId": "32838d1b-196c-425b-936f-83db3fad3395",
        "colab": {},
        "trusted": false
      },
      "cell_type": "code",
      "source": [
        "# Geef variabelen een waarde\n",
        "a = 5\n",
        "b = 0\n",
        "\n",
        "# Deel a door b\n",
        "try:\n",
        "    c = a/b\n",
        "    print(c)\n",
        "except: \n",
        "    print(\"Er is iets fout gegaan\")\n",
        "print(\"einde bewerking\")    \n",
        "\n",
        "# Geef variabelen een waarde\n",
        "a = 5\n",
        "b = 1    \n",
        "\n",
        "# Deel a door b\n",
        "try:\n",
        "    c = a/b\n",
        "    print(c)\n",
        "except: \n",
        "    print(\"Er is iets fout gegaan\")\n",
        "print(\"einde bewerking\")"
      ],
      "execution_count": null,
      "outputs": []
    },
    {
      "metadata": {
        "id": "ZXDv2ro0UfgF",
        "colab_type": "text"
      },
      "cell_type": "markdown",
      "source": [
        "Bij deze manier van afhandeling zie je niet wat er fout gegaan is. Python heeft ook de mogelijkheid om de opgetreden exceptie op te vangen en te tonen. Hiermee kan je aan de gebruiker aangeven wat er fout gegaan is zodat dat de uitvoering van het programma stopt. "
      ]
    },
    {
      "metadata": {
        "id": "1oJs7EjVUfgF",
        "colab_type": "code",
        "outputId": "b2f060fd-292d-4c12-dd3c-6779a7040305",
        "colab": {},
        "trusted": false
      },
      "cell_type": "code",
      "source": [
        "# Geef variabelen een waarde\n",
        "a = 5\n",
        "b = 0\n",
        "\n",
        "# Deel a door b\n",
        "try:\n",
        "    c = a/b\n",
        "    print(c)\n",
        "except Exception as e: \n",
        "    print(e)\n",
        "print(\"einde bewerking\")"
      ],
      "execution_count": null,
      "outputs": []
    }
  ],
  "metadata": {
    "kernelspec": {
      "name": "python3",
      "display_name": "Python 3",
      "language": "python"
    },
    "language_info": {
      "mimetype": "text/x-python",
      "nbconvert_exporter": "python",
      "name": "python",
      "pygments_lexer": "ipython3",
      "version": "3.6.4-final",
      "file_extension": ".py",
      "codemirror_mode": {
        "version": 3,
        "name": "ipython"
      }
    },
    "toc-showcode": false,
    "toc-showmarkdowntxt": true,
    "colab": {
      "name": "Introductie Python.ipynb",
      "provenance": [],
      "collapsed_sections": [
        "bUuCgvy3Ufe1",
        "7bCX9ih7UffB",
        "kVUToI8oUffG",
        "a2_ajgz1UffO",
        "AxVHCoAlUffa",
        "ZUjsT9yeUfft",
        "xdWXL8eOUffw",
        "58d667s0Uff4",
        "ETHwN3yhUff9"
      ]
    }
  },
  "nbformat": 4,
  "nbformat_minor": 1
}