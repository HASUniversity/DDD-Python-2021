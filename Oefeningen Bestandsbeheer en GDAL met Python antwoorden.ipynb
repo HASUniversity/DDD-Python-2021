{
  "cells": [
    {
      "cell_type": "markdown",
      "metadata": {
        "colab_type": "text",
        "id": "CBkObqHNX7SO"
      },
      "source": [
        "## Voorbereiding\n",
        "\n",
        "Ter voorbereiding op de volgende oefeningen lees hoofdstuk 15 van het boek *De Programmeursleerling Leren coderen met Python 3* van *Pieter Spronck* en neem je de Jupyter notebooks \"Bestandsbeheer met Python\"  en \"Introductie GDAL\" door.\n",
        "<br/>\n",
        "<br/>\n",
        "<br/>\n",
        "\n",
        "\n",
        "\n",
        "## Oefening 1\n",
        "\n",
        "In deze oefening print je de huidige (working folder) en navigeer je naar de \"data\" folder. In deze folder staan satellietbeelden vad de Sentinel2 satelliet. Vervolgens print je alle bestanden in de \"data\" folder met de extensie \".tif\" en tel je het aantal bestanden in de folder. Elk rasterbestand is de spectrale reflectie op een bepaald tijdstip (datum en tijd) in een bepaald gedeelte van het elektromagnetisch spectrum (in een spectrale band)."
      ]
    },
    {
      "cell_type": "code",
      "execution_count": 2,
      "metadata": {
        "tags": []
      },
      "outputs": [
        {
          "output_type": "stream",
          "name": "stdout",
          "text": "<built-in function getcwd>\nT31UFT_A009801_20190121T105535_B04_VoedselbosSchijndel.tif\nT31UFT_A009801_20190121T105535_B08_VoedselbosSchijndel.tif\nT31UFT_A010330_20190227T104021_B04_VoedselbosSchijndel.tif\nT31UFT_A010330_20190227T104021_B08_VoedselbosSchijndel.tif\nT31UFT_A010659_20190322T105540_B04_VoedselbosSchijndel.tif\nT31UFT_A010659_20190322T105540_B08_VoedselbosSchijndel.tif\nT31UFT_A010759_20190329T104024_B04_VoedselbosSchijndel.tif\nT31UFT_A010759_20190329T104024_B08_VoedselbosSchijndel.tif\nT31UFT_A010802_20190401T105221_B04_VoedselbosSchijndel.tif\nT31UFT_A010802_20190401T105221_B08_VoedselbosSchijndel.tif\nT31UFT_A010902_20190408T104058_B04_VoedselbosSchijndel.tif\nT31UFT_A010902_20190408T104058_B08_VoedselbosSchijndel.tif\nT31UFT_A011045_20190418T104115_B04_VoedselbosSchijndel.tif\nT31UFT_A011045_20190418T104115_B08_VoedselbosSchijndel.tif\nT31UFT_A011088_20190421T105033_B04_VoedselbosSchijndel.tif\nT31UFT_A011088_20190421T105033_B08_VoedselbosSchijndel.tif\nT31UFT_A011474_20190518T104031_B04_VoedselbosSchijndel.tif\nT31UFT_A011474_20190518T104031_B08_VoedselbosSchijndel.tif\nT31UFT_A011903_20190617T104030_B04_VoedselbosSchijndel.tif\nT31UFT_A011903_20190617T104030_B08_VoedselbosSchijndel.tif\nT31UFT_A012046_20190627T104030_B04_VoedselbosSchijndel.tif\nT31UFT_A012046_20190627T104030_B08_VoedselbosSchijndel.tif\nT31UFT_A012089_20190630T105035_B04_VoedselbosSchijndel.tif\nT31UFT_A012089_20190630T105035_B08_VoedselbosSchijndel.tif\nT31UFT_A012375_20190720T105035_B04_VoedselbosSchijndel.tif\nT31UFT_A012375_20190720T105035_B08_VoedselbosSchijndel.tif\nT31UFT_A012518_20190730T105502_B04_VoedselbosSchijndel.tif\nT31UFT_A012518_20190730T105502_B08_VoedselbosSchijndel.tif\nT31UFT_A012904_20190826T104232_B04_VoedselbosSchijndel.tif\nT31UFT_A012904_20190826T104232_B08_VoedselbosSchijndel.tif\nT31UFT_A013190_20190915T104326_B04_VoedselbosSchijndel.tif\nT31UFT_A013190_20190915T104326_B08_VoedselbosSchijndel.tif\nT31UFT_A013233_20190918T105246_B04_VoedselbosSchijndel.tif\nT31UFT_A013233_20190918T105246_B08_VoedselbosSchijndel.tif\nT31UFT_A014477_20191214T104338_B04_VoedselbosSchijndel.tif\nT31UFT_A014477_20191214T104338_B08_VoedselbosSchijndel.tif\nT31UFT_A019067_20190215T105128_B04_VoedselbosSchijndel.tif\nT31UFT_A019067_20190215T105128_B08_VoedselbosSchijndel.tif\nT31UFT_A019925_20190416T105029_B04_VoedselbosSchijndel.tif\nT31UFT_A019925_20190416T105029_B08_VoedselbosSchijndel.tif\nT31UFT_A020311_20190513T104026_B04_VoedselbosSchijndel.tif\nT31UFT_A020311_20190513T104026_B04_VoedselbosSchijndel_RD.tif\nT31UFT_A020311_20190513T104026_B08_VoedselbosSchijndel.tif\nT31UFT_A020311_20190513T104026_B08_VoedselbosSchijndel_RD.tif\nT31UFT_A021312_20190722T104027_B04_VoedselbosSchijndel.tif\nT31UFT_A021312_20190722T104027_B08_VoedselbosSchijndel.tif\nT31UFT_A021355_20190725T105032_B04_VoedselbosSchijndel.tif\nT31UFT_A021355_20190725T105032_B08_VoedselbosSchijndel.tif\nT31UFT_A021784_20190824T105344_B04_VoedselbosSchijndel.tif\nT31UFT_A021784_20190824T105344_B08_VoedselbosSchijndel.tif\nT31UFT_A022499_20191013T105439_B04_VoedselbosSchijndel.tif\nT31UFT_A022499_20191013T105439_B08_VoedselbosSchijndel.tif\nT31UFT_A022785_20191102T105441_B04_VoedselbosSchijndel.tif\nT31UFT_A022785_20191102T105441_B08_VoedselbosSchijndel.tif\nT31UFT_A023028_20191119T104431_B04_VoedselbosSchijndel.tif\nT31UFT_A023028_20191119T104431_B08_VoedselbosSchijndel.tif\nT31UFT_A023071_20191122T105436_B04_VoedselbosSchijndel.tif\nT31UFT_A023071_20191122T105436_B08_VoedselbosSchijndel.tif\nT31UFT_A023214_20191202T105436_B04_VoedselbosSchijndel.tif\nT31UFT_A023214_20191202T105436_B08_VoedselbosSchijndel.tif\nT31UFT_A023357_20191212T105437_B04_VoedselbosSchijndel.tif\nT31UFT_A023357_20191212T105437_B08_VoedselbosSchijndel.tif\nAantal bestanden in folder = 62\n"
        }
      ],
      "source": [
        "# Importeer module\n",
        "import os\n",
        "\n",
        "# Print de naam van de huidige folder\n",
        "print(os.getcwd)\n",
        "\n",
        "# Navigeer naar de \"data\" folder.\n",
        "os.chdir('data')\n",
        "\n",
        "# Print naam van bestand als extensie is \".tif\"\n",
        "i = 0\n",
        "for file_name in os.listdir() :\n",
        "    i = i + 1\n",
        "    if os.path.splitext(file_name)[1] == '.tif' :\n",
        "        print(file_name)\n",
        "\n",
        "# Print het aantal bestanden in de \"data\" folder \n",
        "print('Aantal bestanden in folder = ' + str(i))"
      ]
    },
    {
      "metadata": {
        "id": "cbgD5WLaX7SV",
        "colab_type": "text"
      },
      "cell_type": "markdown",
      "source": [
        "## Oefening 2\n",
        "\n",
        "De \"data\" folder bevat een aantal satellietbeelden (bestanden) van het voedselbos van verschillende dagen en van de banden 04 en 08. De naamgeving van de bestanden is als volgt opgebouwd:\n",
        "\n",
        "<ID van tile\\>\\_<ID van orbit\\>\\_<datum tijd\\>\\_<nummer van band\\>\\_<locatie\\>.tif\n",
        "\n",
        "Print alleen de datum van elk bestand.  "
      ]
    },
    {
      "cell_type": "code",
      "execution_count": null,
      "metadata": {
        "tags": []
      },
      "outputs": [],
      "source": [
        "# Itereer over de bestanden in de folder\n",
        "for file_name in os.listdir() :\n",
        "\n",
        "    # Haal datum uit bestandsnaam\n",
        "    datum = file_name[:-35][15:]\n",
        "\n",
        "    # Print datum\n",
        "    print(datum)"
      ]
    },
    {
      "metadata": {
        "id": "FQ0083huX7SY",
        "colab_type": "text"
      },
      "cell_type": "markdown",
      "source": [
        "## Oefening 3\n",
        "\n",
        "Pas het script van oefening 2 aan zodat elke datum maar 1 keer geprint wordt.\n"
      ]
    },
    {
      "cell_type": "code",
      "execution_count": 10,
      "metadata": {
        "tags": []
      },
      "outputs": [
        {
          "output_type": "stream",
          "name": "stdout",
          "text": "20190121\n20190227\n20190322\n20190329\n20190401\n20190408\n20190418\n20190421\n20190518\n20190617\n20190627\n20190630\n20190720\n20190730\n20190826\n20190915\n20190918\n20191214\n20190215\n20190416\n20190513\n20190513T10\n20190722\n20190725\n20190824\n20191013\n20191102\n20191119\n20191122\n20191202\n20191212\n31\n"
        }
      ],
      "source": [
        "# Definieer array voor opslag datums\n",
        "datums = []\n",
        "\n",
        "# Itereer over de bestanden in de folder\n",
        "for file_name in os.listdir() :\n",
        "\n",
        "    # Haal datum uit bestandsnaam\n",
        "    datum = file_name[:-35][15:]\n",
        "\n",
        "    # Check of datum al eerder geprint is\n",
        "    if datum not in datums :\n",
        "        datums.append(datum)\n",
        "\n",
        "# Print datum\n",
        "for datum in datums :\n",
        "    print(datum)\n",
        "\n",
        "# Print aantal datums\n",
        "print(len(datums))"
      ]
    },
    {
      "cell_type": "markdown",
      "metadata": {},
      "source": [
        "## Oefening 4\n",
        "\n",
        "In de module `raster_functions` zit een functie om het coördinaatsysteem van het satellietbeeld op te vragen.\n",
        "Maak een script dat met deze functie het coördinaatsysteem van elk satellietbeeld print. \n",
        "\n",
        "**Let op:** Om de module `raster_functions` te kunnen gebruiken, moet deze eerst gecompileerd worden. </br>\n",
        "Dit gaat als volgt:\n",
        "- Open het script \"raster_functions.py\" in Visual Studio Code\n",
        "- Run dit script met Crtl+F5\n",
        "\n",
        "Nu kan de module aangeroepen worden vanuit andere scripts."
      ]
    },
    {
      "cell_type": "code",
      "execution_count": 2,
      "metadata": {
        "tags": []
      },
      "outputs": [
        {
          "output_type": "stream",
          "name": "stdout",
          "text": "GDAL/OGR installed\nVersie is 2040100\n32631\n32631\n32631\n32631\n32631\n32631\n32631\n32631\n32631\n32631\n32631\n32631\n32631\n32631\n32631\n32631\n32631\n32631\n32631\n32631\n32631\n32631\n32631\n32631\n32631\n32631\n32631\n32631\n32631\n32631\n32631\n32631\n32631\n32631\n32631\n32631\n32631\n32631\n32631\n32631\n32631\n28992\n32631\n28992\n32631\n32631\n32631\n32631\n32631\n32631\n32631\n32631\n32631\n32631\n32631\n32631\n32631\n32631\n32631\n32631\n32631\n32631\n"
        }
      ],
      "source": [
        "# Importeer module\n",
        "import raster_functions\n",
        "\n",
        "# Itereer over de bestanden in de folder\n",
        "for file_name in os.listdir() :\n",
        "\n",
        "    # Bepaal coördinaatsysteem van het satellietbeeld\n",
        "    coordinate_system = raster_functions.get_coordinate_system(file_name)\n",
        "\n",
        "    # Print coördinaatsysteem\n",
        "    print(coordinate_system)"
      ]
    },
    {
      "cell_type": "markdown",
      "metadata": {},
      "source": [
        "## Oefening 5\n",
        "\n",
        "Maak een script dat per coördinaatsysteem telt hoeveel satellietbeelden er in de folder aanwezig zijn. Je mag de coordinaatsystemen die je mat het vorige script gevonden hebt \"hard-coded\" opnemen in dit script.  "
      ]
    },
    {
      "cell_type": "code",
      "execution_count": 3,
      "metadata": {
        "tags": []
      },
      "outputs": [
        {
          "output_type": "stream",
          "name": "stdout",
          "text": "Aantal 32631 = 60\nAantal 28992 = 2\n"
        }
      ],
      "source": [
        "# Importeer module\n",
        "import raster_functions\n",
        "\n",
        "# Initaliseer de tellers\n",
        "aantal_32631 = 0\n",
        "aantal_28992 = 0\n",
        "\n",
        "# Itereer over de bestanden in de folder\n",
        "for file_name in os.listdir() :\n",
        "\n",
        "    # Tel het aantal beelden per coördinaatsysteem \n",
        "    coordinate_system = raster_functions.get_coordinate_system(file_name)\n",
        "    if int(coordinate_system) == 32631 :\n",
        "        aantal_32631 = aantal_32631 + 1\n",
        "    if int(coordinate_system) == 28992 :\n",
        "        aantal_28992 = aantal_28992 + 1\n",
        "\n",
        "# Print coördinaatsystemen met aantal satellietbeelden\n",
        "print(\"Aantal 32631 = \" + str(aantal_32631))\n",
        "print(\"Aantal 28992 = \" + str(aantal_28992))"
      ]
    },
    {
      "cell_type": "markdown",
      "metadata": {},
      "source": [
        "## Oefening 6\n",
        "\n",
        "In de module `raster_functions` zit een functie om de pixelgrootte (breedte en lengte) van een satellietbeeld op te vragen. Maak een script dat met deze functie checkt of alle beelden dezelfde pixelgrootte hebben.\n",
        "\n"
      ]
    },
    {
      "cell_type": "code",
      "execution_count": 3,
      "metadata": {
        "tags": []
      },
      "outputs": [
        {
          "output_type": "stream",
          "name": "stdout",
          "text": "Het volgende beeld heeft een afwijkende pixelgrootte: T31UFT_A020311_20190513T104026_B04_VoedselbosSchijndel_RD.tif\nHet volgende beeld heeft een afwijkende pixelgrootte: T31UFT_A020311_20190513T104026_B08_VoedselbosSchijndel_RD.tif\nNiet alle beelden hebben dezelfde pixelgrootte\n"
        }
      ],
      "source": [
        "# Importeer module\n",
        "import raster_functions\n",
        "\n",
        "# Initialiseer de tellers\n",
        "i = 0\n",
        "aantal_afwijkende_beelden = 0\n",
        "\n",
        "# Itereer over de bestanden in de folder\n",
        "for file_name in os.listdir() :\n",
        "\n",
        "    # Bepaal de pixelgrootte (lengte en breedte) \n",
        "    breedte, lengte = raster_functions.get_cell_dimensions(file_name)\n",
        "\n",
        "    # Initialiseer breedte en lengte om te checken\n",
        "    if i == 0 :\n",
        "        check_breedte = breedte\n",
        "        check_lengte  = lengte\n",
        "    \n",
        "    # Check of alle satellietbeelden dezelfde pixelgrootte hebben\n",
        "    if i > 0:\n",
        "        if check_breedte != breedte or check_lengte != lengte :\n",
        "            print('Het volgende beeld heeft een afwijkende pixelgrootte: ' +str(file_name))\n",
        "            aantal_afwijkende_beelden = aantal_afwijkende_beelden + 1\n",
        "\n",
        "    # Ophogen teller\n",
        "    i = i + 1\n",
        "\n",
        "# Print resultaat\n",
        "if aantal_afwijkende_beelden == 0:\n",
        "    print('Alle beelden hebben dezelfde pixelgrootte')\n",
        "else :\n",
        "    print('Niet alle beelden hebben dezelfde pixelgrootte')"
      ]
    },
    {
      "cell_type": "code",
      "execution_count": null,
      "metadata": {},
      "outputs": [],
      "source": []
    }
  ],
  "metadata": {
    "kernelspec": {
      "name": "python3",
      "display_name": "Python 3",
      "language": "python"
    },
    "language_info": {
      "mimetype": "text/x-python",
      "nbconvert_exporter": "python",
      "name": "python",
      "pygments_lexer": "ipython3",
      "version": "3.6.4-final",
      "file_extension": ".py",
      "codemirror_mode": {
        "version": 3,
        "name": "ipython"
      }
    },
    "colab": {
      "name": "Oefeningen introductie Python.ipynb",
      "provenance": [],
      "collapsed_sections": []
    }
  },
  "nbformat": 4,
  "nbformat_minor": 1
}