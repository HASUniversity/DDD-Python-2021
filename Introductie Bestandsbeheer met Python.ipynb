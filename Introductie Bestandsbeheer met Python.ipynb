{
  "cells": [
    {
      "metadata": {
        "id": "g9IxMvJnVA9a",
        "colab_type": "text"
      },
      "cell_type": "markdown",
      "source": [
        "# Werken met bestanden\n",
        "\n",
        "In dit hoofdstuk wordt de volgende Python module nader uitgelegd:\n",
        "- os (voor bestandsbeheer)\n",
        "\n",
        "Deze module heb je later nodig om het proces van het berekenen van een NDVI kaart op basis van Sentinel satellietbeelden te automatiseren."
      ]
    },
    {
      "metadata": {
        "id": "4F3u0c3GVA9b",
        "colab_type": "text"
      },
      "cell_type": "markdown",
      "source": [
        "## De module `os`\n",
        "\n",
        "De module `os` maakt het mogelijk om vanuit een Python script bestandsbeheer uit te voeren. Denk hierbij aan het navigeren naar een folder, het opvragen van een lijst van bestanden in een folder, het verplaatsen van bestanden en het verwijderen van bestanden. De volledige set van funcies kan je [hier](https://docs.python.org/3/library/os.html) vinden. Voordat je functies uit de `os` module kan gebruiken moet deze geïmporteerd worden.\n",
        "\n",
        "**Let op:** In Python kan je niet de \\ (forward slash) in de pad aanduiding gebruiken zoals gebruikelijk is in Windows. Er zijn drie alternatieven: \n",
        "- forward slash (/)\n",
        "- Twee backslashes (\\\\)\n",
        "- Pad beginnen met r "
      ]
    },
    {
      "metadata": {
        "id": "NKFZwqExVA9d",
        "colab_type": "code",
        "colab": {
          "base_uri": "https://localhost:8080/",
          "height": 51
        },
        "outputId": "ce5d6763-f2a5-47dd-d4a0-34a4ad07588b",
        "executionInfo": {
          "status": "ok",
          "timestamp": 1588171727710,
          "user_tz": -120,
          "elapsed": 710,
          "user": {
            "displayName": "Python Terlien",
            "photoUrl": "",
            "userId": "08285185954748187513"
          }
        },
        "trusted": true,
        "tags": []
      },
      "cell_type": "code",
      "source": [
        "import os\n",
        "\n",
        "# Print naam van huidige folder\n",
        "folder = os.getcwd()\n",
        "print(folder)\n",
        "\n",
        "# Navigeer naar de subfolder data\\raster\n",
        "os.chdir('data')\n",
        "folder = os.getcwd()\n",
        "print(folder)\n"
      ],
      "execution_count": 1,
      "outputs": [
        {
          "output_type": "stream",
          "name": "stdout",
          "text": "c:\\Users\\TeM\\OneDrive - HAS Hogeschool\\Module\\GM2141_Data_Driven_Design\\2021\\Lessen Python\\github\nc:\\Users\\TeM\\OneDrive - HAS Hogeschool\\Module\\GM2141_Data_Driven_Design\\2021\\Lessen Python\\github\\data\n"
        }
      ]
    },
    {
      "metadata": {
        "id": "Uib0DVMDVA9j",
        "colab_type": "text"
      },
      "cell_type": "markdown",
      "source": [
        "Het is mogelijk om de inhoud van een folder op te vragen. Je krijgt dan een lijst met alle bestandsnamen en foldernamen van het type `list` terug. Met een `for` lus kan je de naam van elk bestand en elke de folder ophalen en vervolgens afdrukken. Met de functie `os.path.isfile` kan je checken het een bestand of folder is."
      ]
    },
    {
      "metadata": {
        "id": "LJPzF4sKVA9l",
        "colab_type": "code",
        "colab": {
          "base_uri": "https://localhost:8080/",
          "height": 1000
        },
        "outputId": "6a2a312b-1ce5-4865-882f-5ce507eea188",
        "executionInfo": {
          "status": "ok",
          "timestamp": 1588172632910,
          "user_tz": -120,
          "elapsed": 720,
          "user": {
            "displayName": "Python Terlien",
            "photoUrl": "",
            "userId": "08285185954748187513"
          }
        },
        "trusted": true,
        "tags": []
      },
      "cell_type": "code",
      "source": [
        "import os\n",
        "\n",
        "# Toon alle bestanden in deze folder \n",
        "folder_inhoud = os.listdir()\n",
        "for bestand_of_folder in folder_inhoud :\n",
        "    \n",
        "    # Check of je een folder of bestand hebt. Als je een bestand hebt, print naam en extensie \n",
        "    if os.path.isfile(bestand_of_folder) :\n",
        "      print(os.path.abspath(bestand_of_folder))     # Volledige pad met bestandsnaam en extensie\n",
        "      print(os.path.basename(bestand_of_folder))    # Bestandsnaam met extensie\n",
        "      print(os.path.splitext(bestand_of_folder)[0]) # Bestandsnaam zonder extensie\n",
        "      print(os.path.splitext(bestand_of_folder)[1]) # Extensie\n",
        "      print('')\n",
        "  \n"
      ],
      "execution_count": 1,
      "outputs": [
        {
          "output_type": "stream",
          "name": "stdout",
          "text": "c:\\Users\\TeM\\OneDrive - HAS Hogeschool\\Module\\GM2141_Data_Driven_Design\\2021\\Lessen Python\\github\\Bestandsbeheer met Python.ipynb\nBestandsbeheer met Python.ipynb\nBestandsbeheer met Python\n.ipynb\n\nc:\\Users\\TeM\\OneDrive - HAS Hogeschool\\Module\\GM2141_Data_Driven_Design\\2021\\Lessen Python\\github\\Introductie GDAL.ipynb\nIntroductie GDAL.ipynb\nIntroductie GDAL\n.ipynb\n\nc:\\Users\\TeM\\OneDrive - HAS Hogeschool\\Module\\GM2141_Data_Driven_Design\\2021\\Lessen Python\\github\\Introductie Python.ipynb\nIntroductie Python.ipynb\nIntroductie Python\n.ipynb\n\nc:\\Users\\TeM\\OneDrive - HAS Hogeschool\\Module\\GM2141_Data_Driven_Design\\2021\\Lessen Python\\github\\Oefeningen Bestandsbeheer met Python antwoorden.ipynb\nOefeningen Bestandsbeheer met Python antwoorden.ipynb\nOefeningen Bestandsbeheer met Python antwoorden\n.ipynb\n\nc:\\Users\\TeM\\OneDrive - HAS Hogeschool\\Module\\GM2141_Data_Driven_Design\\2021\\Lessen Python\\github\\Oefeningen Bestandsbeheer met Python copy.ipynb\nOefeningen Bestandsbeheer met Python copy.ipynb\nOefeningen Bestandsbeheer met Python copy\n.ipynb\n\nc:\\Users\\TeM\\OneDrive - HAS Hogeschool\\Module\\GM2141_Data_Driven_Design\\2021\\Lessen Python\\github\\Oefeningen Bestandsbeheer met Python.ipynb\nOefeningen Bestandsbeheer met Python.ipynb\nOefeningen Bestandsbeheer met Python\n.ipynb\n\nc:\\Users\\TeM\\OneDrive - HAS Hogeschool\\Module\\GM2141_Data_Driven_Design\\2021\\Lessen Python\\github\\Oefeningen Introductie Python.ipynb\nOefeningen Introductie Python.ipynb\nOefeningen Introductie Python\n.ipynb\n\nc:\\Users\\TeM\\OneDrive - HAS Hogeschool\\Module\\GM2141_Data_Driven_Design\\2021\\Lessen Python\\github\\raster_functions.py\nraster_functions.py\nraster_functions\n.py\n\n"
        }
      ]
    },
    {
      "metadata": {
        "id": "5mq0TKq8VA9q",
        "colab_type": "text"
      },
      "cell_type": "markdown",
      "source": [
        "Je kan de lijst van bestanden ook gebruiken om te checken of een bestand aanwezig is in een folder. Dit zou je kunnen gebruiken om een bestand te verwijderen als het gevonden is."
      ]
    },
    {
      "metadata": {
        "id": "54zUkU5bVA9r",
        "colab_type": "code",
        "colab": {
          "base_uri": "https://localhost:8080/",
          "height": 51
        },
        "outputId": "29f28a07-21c4-4438-ea17-86db0195de6d",
        "executionInfo": {
          "status": "ok",
          "timestamp": 1588172688769,
          "user_tz": -120,
          "elapsed": 760,
          "user": {
            "displayName": "Python Terlien",
            "photoUrl": "",
            "userId": "08285185954748187513"
          }
        },
        "trusted": true
      },
      "cell_type": "code",
      "source": [
        "import os\n",
        "\n",
        "# Maak lijst van bestanden\n",
        "folder_inhoud = os.listdir()\n",
        "\n",
        "# Check of bestand bestaat en verwijder indien gevonden\n",
        "bestandsnaam = 'my_file.txt'\n",
        "if bestandsnaam in folder_inhoud :\n",
        "    print('Bestand gevonden')\n",
        "else :\n",
        "    print('Bestand niet gevonden')\n",
        "\n",
        "# Maak bestand\n",
        "open(bestandsnaam, 'a').close()\n",
        "\n",
        "# Maak lijst van bestanden\n",
        "folder_inhoud = os.listdir()\n",
        "\n",
        "# Check of bestand bestaat en verwijder indien gevonden\n",
        "if bestandsnaam in folder_inhoud :\n",
        "    print('Bestand gevonden en verwijderd')\n",
        "    os.remove(bestandsnaam)\n",
        "else :\n",
        "    print('Bestand niet gevonden')\n",
        "\n"
      ],
      "execution_count": null,
      "outputs": []
    }
  ],
  "metadata": {
    "kernelspec": {
      "name": "python3",
      "display_name": "Python 3",
      "language": "python"
    },
    "language_info": {
      "mimetype": "text/x-python",
      "nbconvert_exporter": "python",
      "name": "python",
      "file_extension": ".py",
      "version": "3.7.3-final",
      "pygments_lexer": "ipython3",
      "codemirror_mode": {
        "version": 3,
        "name": "ipython"
      }
    },
    "colab": {
      "name": "Bestandsbeheer met Python.ipynb",
      "provenance": [],
      "collapsed_sections": []
    }
  },
  "nbformat": 4,
  "nbformat_minor": 1
}