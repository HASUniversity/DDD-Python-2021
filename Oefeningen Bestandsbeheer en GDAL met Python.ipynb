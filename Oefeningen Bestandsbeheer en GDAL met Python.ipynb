{
  "cells": [
    {
      "cell_type": "markdown",
      "metadata": {
        "colab_type": "text",
        "id": "CBkObqHNX7SO"
      },
      "source": [
        "## Voorbereiding\n",
        "\n",
        "Ter voorbereiding op de volgende oefeningen lees hoofdstuk 15 van het boek *De Programmeursleerling Leren coderen met Python 3* van *Pieter Spronck* en neem je de Jupyter notebooks \"Bestandsbeheer met Python\"  en \"Introductie GDAL\" door.\n",
        "<br/>\n",
        "<br/>\n",
        "<br/>\n",
        "\n",
        "\n",
        "\n",
        "## Oefening 1\n",
        "\n",
        "In deze oefening print je de huidige (working folder) en navigeer je naar de \"data\" folder. In deze folder staan satellietbeelden vad de Sentinel2 satelliet. Vervolgens print je alle bestanden in de \"data\" folder met de extensie \".tif\" en tel je het aantal bestanden in de folder. Elk rasterbestand is de spectrale reflectie op een bepaald tijdstip (datum en tijd) in een bepaald gedeelte van het elektromagnetisch spectrum (in een spectrale band)."
      ]
    },
    {
      "cell_type": "code",
      "execution_count": null,
      "metadata": {},
      "outputs": [],
      "source": [
        "# Importeer module\n",
        "\n",
        "# Print de naam van de huidige folder\n",
        "\n",
        "# Navigeer naar de \"data\" folder.\n",
        "\n",
        "# Print naam van bestand als extensie is \".tif\"\n",
        "\n",
        "# Print het aantal bestanden in de \"data\" folder "
      ]
    },
    {
      "metadata": {
        "id": "cbgD5WLaX7SV",
        "colab_type": "text"
      },
      "cell_type": "markdown",
      "source": [
        "## Oefening 2\n",
        "\n",
        "De \"data\" folder bevat een aantal satellietbeelden (bestanden) van het voedselbos van verschillende dagen en van de banden 04 en 08. De naamgeving van de bestanden is als volgt opgebouwd:\n",
        "\n",
        "<ID van tile\\>\\_<ID van orbit\\>\\_<datum tijd\\>\\_<nummer van band\\>\\_<locatie\\>.tif\n",
        "\n",
        "Print alleen de datum van elk bestand.  "
      ]
    },
    {
      "cell_type": "code",
      "execution_count": null,
      "metadata": {},
      "outputs": [],
      "source": [
        "# Itereer over de bestanden in de folder\n",
        "\n",
        "# Haal datum uit bestandsnaam\n",
        "\n",
        "# Print datum"
      ]
    },
    {
      "metadata": {
        "id": "FQ0083huX7SY",
        "colab_type": "text"
      },
      "cell_type": "markdown",
      "source": [
        "## Oefening 3\n",
        "\n",
        "Pas het script van oefening 2 aan zodat elke datum maar 1 keer geprint wordt en tel het aantal datums.\n"
      ]
    },
    {
      "cell_type": "code",
      "execution_count": null,
      "metadata": {},
      "outputs": [],
      "source": [
        "# Itereer over de bestanden in de folder\n",
        "\n",
        "# Haal datum uit bestandsnaam\n",
        "\n",
        "# Check of datum al eerder geprint is\n",
        "\n",
        "# Print datum\n",
        "\n",
        "# Print aantal datums"
      ]
    },
    {
      "cell_type": "markdown",
      "metadata": {},
      "source": [
        "## Oefening 4\n",
        "\n",
        "In de module `raster_functions` zit een functie om het coördinaatsysteem van het satellietbeeld op te vragen.\n",
        "Maak een script dat met deze functie het coördinaatsysteem van elk satellietbeeld print. \n",
        "\n",
        "**Let op:** Om de module `raster_functions` te kunnen gebruiken, moet deze eerst gecompileerd worden. </br>\n",
        "Dit gaat als volgt:\n",
        "- Open het script \"raster_functions.py\" in Visual Studio Code\n",
        "- Run dit script met Crtl+F5\n",
        "\n",
        "Nu kan de module aangeroepen worden vanuit andere scripts."
      ]
    },
    {
      "cell_type": "code",
      "execution_count": null,
      "metadata": {},
      "outputs": [],
      "source": [
        "# Importeer module\n",
        "\n",
        "# Itereer over de bestanden in de folder\n",
        "\n",
        "# Bepaal coördinaatsysteem van het satellietbeeld\n",
        "\n",
        "# Print coördinaatsysteem"
      ]
    },
    {
      "cell_type": "markdown",
      "metadata": {},
      "source": [
        "## Oefening 5\n",
        "\n",
        "Maak een script dat per coördinaatsysteem telt hoeveel satellietbeelden er in de folder aanwezig zijn. Je mag de coordinaatsystemen die je mat het vorige script gevonden hebt \"hard-coded\" opnemen in dit script. "
      ]
    },
    {
      "cell_type": "code",
      "execution_count": null,
      "metadata": {},
      "outputs": [],
      "source": [
        "# Importeer module\n",
        "\n",
        "# Itereer over de bestanden in de folder\n",
        "\n",
        "# Tel het aantal beelden per coördinaatsysteem \n",
        "\n",
        "# Print coördinaatsystemen met aantal satellietbeelden"
      ]
    },
    {
      "cell_type": "markdown",
      "metadata": {},
      "source": [
        "## Oefening 6\n",
        "\n",
        "In de module `raster_functions` zit een functie om de pixelgrootte (breedte en lengte) van een satellietbeeld op te vragen. Open het script \"raster_functions.py\" in Visual Studio Code en Maak een script dat met deze functie checkt of alle beelden dezelfde pixelgrootte hebben.\n",
        "\n"
      ]
    },
    {
      "cell_type": "code",
      "execution_count": null,
      "metadata": {},
      "outputs": [],
      "source": [
        "# Importeer module\n",
        "\n",
        "# Itereer over de bestanden in de folder\n",
        "\n",
        "# Bepaal de pixelgrootte (lengte en breedte) \n",
        "\n",
        "# Check of alle satellietbeelden dezelfde pixelgrootte hebben\n",
        "\n",
        "# Print resultaat"
      ]
    }
  ],
  "metadata": {
    "kernelspec": {
      "name": "python3",
      "display_name": "Python 3",
      "language": "python"
    },
    "language_info": {
      "mimetype": "text/x-python",
      "nbconvert_exporter": "python",
      "name": "python",
      "pygments_lexer": "ipython3",
      "version": "3.7.3-final",
      "file_extension": ".py",
      "codemirror_mode": {
        "version": 3,
        "name": "ipython"
      }
    },
    "colab": {
      "name": "Oefeningen introductie Python.ipynb",
      "provenance": [],
      "collapsed_sections": []
    }
  },
  "nbformat": 4,
  "nbformat_minor": 1
}