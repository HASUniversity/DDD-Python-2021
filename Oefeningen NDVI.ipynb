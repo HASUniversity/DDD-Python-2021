{
 "metadata": {
  "language_info": {
   "codemirror_mode": {
    "name": "ipython",
    "version": 3
   },
   "file_extension": ".py",
   "mimetype": "text/x-python",
   "name": "python",
   "nbconvert_exporter": "python",
   "pygments_lexer": "ipython3",
   "version": "3.6.4-final"
  },
  "orig_nbformat": 2,
  "kernelspec": {
   "name": "python36464bit316a8e2122e14bfcb01ef6b8c23c13c3",
   "display_name": "Python 3.6.4 64-bit"
  }
 },
 "nbformat": 4,
 "nbformat_minor": 2,
 "cells": [
  {
   "cell_type": "markdown",
   "metadata": {},
   "source": [
    "## Voorbereiding\n",
    "\n",
    "Zorg dat je weet de NDVI is en hoe je de NDVI berekent. Voor de NDVI berekening heb je de reflectie in het rood en in het infrarood nodig. Voor de Sentinel2 satelliet zijn dit de banden 04 (rood) en 08 (infrarood). "
   ]
  },
  {
   "cell_type": "markdown",
   "metadata": {},
   "source": [
    "## Oefening 1\n",
    "\n",
    "Maak een script dat voor elke dag waarvoor je satellietbeelden hebt de NDVI berekent. In de naam van het rasterbestand vind je de datum en tijd en de band. De module `raster_functions` bevat een functie om de NDVI te berekenen. \n",
    "\n",
    "Maak eerst een stroomschema waarin je per stap de input aangeeft, wat er in de stap gebeurt en wat de output is voordat je begint met coderen!\n",
    "\n",
    "De NDVI heeft altijd een waarde tussen de -1 en +1. Check voor een willekeurig NDVI bestand of de waardes correct zijn. "
   ]
  },
  {
   "cell_type": "code",
   "execution_count": 1,
   "metadata": {},
   "outputs": [],
   "source": [
    "# Importeer modules\n",
    "\n",
    "\n",
    "# Navigeer naar de \"data\" folder met de satellietbeelden\n",
    "\n",
    "# Itereer over de rasterbestanden van band 4\n",
    "\n",
    "# Zoek voor dezelfde datum en tijd het rasterbestand van band 8\n",
    "\n",
    "# Bereken voor elke datum en tijd de NDVI "
   ]
  },
  {
   "cell_type": "markdown",
   "metadata": {},
   "source": [
    "## Oefening 2\n",
    "\n",
    "Om een grafiek te kunnen maken van het verloop van de NDVI in de tijd op een bepaalde locatie, moet je op de betreffende locatie de NDVI waarde uit het rasterbestand halen. Elk NDVI rasterbestand is genomen op een andere datum/tijd. Als je uit elk bestand de NDVI waarde leest, kan je een grafiek maken met de datum/tijd op de x-as en de NDVI waarde op de y-as.\n",
    "\n",
    "Maak een script dat op de volgende locatie uit alle aanwezige NDVI rasterbestanden de NDVI waarde haalt. \n",
    "\n",
    "x = 670323<br/>\n",
    "y = 5722626\n",
    "\n",
    "Plot zowel de datum/tijd als de bijbehorende NDVI waarde. De output moet er zo uitzien:\n",
    "\n",
    "20190421  0.45<br/>\n",
    "20190518  0.52<br/>\n",
    "20190617  0.53<br/>\n",
    "...\n",
    "\n",
    "Voor het ophalen van de NDVI waarde kan je de functie `get_value_from_raster` gebruiken uit de module `raster_functies`\n",
    "\n",
    "Let op: De gegeven coordinaten zijn in EPSG:32631. Er zijn echter ook beelden die een ander coordinaatsysteem hebben (EPSG:28992). Deze moeten eerst getransformeerd worden naar EPSG:32631 voordat je de NDVI waarde uit kan lezen, waarom?\n",
    "\n",
    "Je kan een coordinaattransformatie uitvoeren met de functie `transform_raster_image` uit de module `raster_functies`.\n",
    "\n",
    "Breid het stroomschema dat je gemaakt hebt in oefening 1 uit met de stappen die je in dit script gaat coderen. Neem ook op welke keuzes je in het script moet maken (bijv. afhankelijk van het coördinaatsysteem). Neem deze stappen vervolgens op als commentaar in je script en begin daarna pas met het coderen!"
   ]
  },
  {
   "cell_type": "code",
   "execution_count": null,
   "metadata": {},
   "outputs": [],
   "source": [
    "# Importeer modules"
   ]
  }
 ]
}