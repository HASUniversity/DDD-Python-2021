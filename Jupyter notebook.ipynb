{
 "cells": [
  {
   "cell_type": "markdown",
   "metadata": {},
   "source": [
    "# Jupyter notebook\n",
    "\n",
    "## Introductie\n",
    "\n",
    "In dit blok gaan we aan de slag met Python. Jullie gaan dit gebruiken om taken zoals data import en verwerking te automatiseren, en om simpele data analyses en visualisatie uit te voeren. Maar, voordat we met Python aan de slag gaan een korte uitleg over Jupyter Notebook. \n",
    "\n",
    "Een Jupyter notebook kan zowel computer code bevatten, maar ook verrijkte tekst onderdelen zoals paragrafen, vergelijkingen en afbeeldingen. Hiermee kunnen notebooks zowel leesbare documenten zijn die op een beschrijvende wijze analyses of berekeningen bevatten, als ook uitvoerbare stukken computercode voor het verrichten van data analyses. Misschien wel leuk/goed om te weten is dat Jupyter niet specifiek gericht is op Python. De naam zelf is zelfs afgeleid van de drie meest populaire programmeer talen in data science, namelijk Julia, Pythyon en R.\n",
    "\n",
    "## Opmaak met markdown\n",
    "\n",
    "Je kunt in een document gewone verrijkte tekst gebruiken. Deze tekst is hier een voorbeeld van. Dubbelklik maar eens op de tekst om de tekst te editen. Wat je ziet, is dat er wat tekens zijn bijgekomen. Om de **vetgedrukt** en *schuingedrukt* stukken tekst staan bijvoorbeeld dubbel en enkele asteriksen (\\*), en voor de kopjes in deze tekst staan een of twee hekjes (#). Daarnaast kun je ook zien dat de internet link bestaat uit de tekst tussen vierkante haakjes met daarachter tussen gewone haakjes de URL.\n",
    "\n",
    "De opmaak van de tekst gebeurt aan de hand van [Markdown syntax](https://nl.wikipedia.org/wiki/Markdown). Sluit eerst de 'editing mode' door op het 'play' knopje in de menubalk hierboven te klikken. Bekijk vervolgens de [Cheatsheet](https://www.markdownguide.org/cheat-sheet/) voor de basis syntax om je tekst op te maken. Voor een uitgebreider overzicht van de mogelijkheden, zie [dit overzicht](https://www.markdownguide.org/basic-syntax/). Denk er aan, je hoeft niet persé alle syntax uit je hoofd te leren, je kunt altijd bovengenoemde cheatsheet er bij halen.\n",
    "\n",
    "## Code blocks\n",
    "\n",
    "Je kunt met code werken in zogenaamde 'code cells'. Deze worden in de tekst aangeven door het `[ ]` label in de linkerrand van de tekst. In onderstaande code cell staat bijvoorbeeld een stukje code waarmee je 'welkom bij deze eerste les' uitprint naar het scherm. Je kunt deze code uitvoeren door op de code regel te gaan staan en dan het 'play' knopje in de menubalk hierboven te drukken, of door `Ctrl+Enter` te drukken.\n",
    "\n",
    "Je kunt de code zelf aanpassen. Hiervoor dubbelklik je op het code blok. Probeer dat nu zelf en verander de code zodat het nu je naam uitprint. Als je nu dit document bewaard dan heb je daarmee ook meteen je eerste stukje code bewaard :-). "
   ]
  },
  {
   "cell_type": "code",
   "execution_count": null,
   "metadata": {},
   "outputs": [],
   "source": [
    "print('Welkom bij deze eerste les')"
   ]
  },
  {
   "cell_type": "markdown",
   "metadata": {},
   "source": [
    "Wanneer je de code uitvoert, zul je zien dat de uitkomst onder de code wordt geprint. Het `[ ]` label verandert dan in `[1]`. Je kunt dit of alle resultaten van code ook weer verwijderen. Hiervoor klik je met je rechtermuisknop op de code. Je krijgt dan een menu te zien waarin je onder andere kunt aangeven het resultaat (*Clear output*) van de code of alle resultaten in het document (*Clear all outputs*) te verwijderen."
   ]
  },
  {
   "cell_type": "markdown",
   "metadata": {},
   "source": [
    "## Hulp\n",
    "Je zult veel met functies gaan werken. Een voorbeeld van een functie is `sum()` waarmee je een reeks getallen kunt uitrekenen. Weet je nu niet waar een functie voor dient of hoe je er mee moet werken, plaats dan je cursor ergens in de functienaam. Tik vervolgens *Ctrl+tab* en je krijgt een popup venster te zien met een beschrijving. Je kunt dezelfde help tekst ook in je notebook printen door de functie gevolgd door een vraagteken te runnen.\n",
    "\n",
    "De helptekst is helaas niet altijd even duidelijk voor de niet-programeurs onder ons. Gelukkig is er ook nog zoiets als Google waar je van alles kunt vinden. Of je kunt het natuurlijk aan ons vragen.\n"
   ]
  },
  {
   "cell_type": "code",
   "execution_count": 4,
   "metadata": {},
   "outputs": [
    {
     "data": {
      "text/plain": [
       "\u001b[1;31mSignature:\u001b[0m \u001b[0msum\u001b[0m\u001b[1;33m(\u001b[0m\u001b[0miterable\u001b[0m\u001b[1;33m,\u001b[0m \u001b[0mstart\u001b[0m\u001b[1;33m=\u001b[0m\u001b[1;36m0\u001b[0m\u001b[1;33m,\u001b[0m \u001b[1;33m/\u001b[0m\u001b[1;33m)\u001b[0m\u001b[1;33m\u001b[0m\u001b[1;33m\u001b[0m\u001b[0m\n",
       "\u001b[1;31mDocstring:\u001b[0m\n",
       "Return the sum of a 'start' value (default: 0) plus an iterable of numbers\n",
       "\n",
       "When the iterable is empty, return the start value.\n",
       "This function is intended specifically for use with numeric values and may\n",
       "reject non-numeric types.\n",
       "\u001b[1;31mType:\u001b[0m      builtin_function_or_method\n"
      ]
     },
     "metadata": {},
     "output_type": "display_data"
    }
   ],
   "source": [
    "sum?"
   ]
  },
  {
   "cell_type": "markdown",
   "metadata": {},
   "source": [
    "## Zelfstudie\n",
    "Lees nu zelf de tutorial [Jupyter Notebook for Beginners: A Tutorial](https://www.dataquest.io/blog/jupyter-notebook-tutorial/) door. Heb je hier nog vragen over, dan kunnen die tijdens de les behandeld worden. "
   ]
  },
  {
   "cell_type": "code",
   "execution_count": null,
   "metadata": {},
   "outputs": [],
   "source": []
  }
 ],
 "metadata": {
  "kernelspec": {
   "display_name": "Python 3",
   "language": "python",
   "name": "python3"
  },
  "language_info": {
   "codemirror_mode": {
    "name": "ipython",
    "version": 3
   },
   "file_extension": ".py",
   "mimetype": "text/x-python",
   "name": "python",
   "nbconvert_exporter": "python",
   "pygments_lexer": "ipython3",
   "version": "3.7.1"
  }
 },
 "nbformat": 4,
 "nbformat_minor": 4
}
